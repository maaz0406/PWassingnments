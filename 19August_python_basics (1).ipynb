{
 "cells": [
  {
   "cell_type": "markdown",
   "id": "8c31117f-c537-4c08-9cb5-7ae57d61671c",
   "metadata": {},
   "source": [
    "19 August pythpn basic assignment"
   ]
  },
  {
   "cell_type": "markdown",
   "id": "8414ea61-dff1-459b-9099-30d8d8892b81",
   "metadata": {},
   "source": [
    "Python Basics Variable"
   ]
  },
  {
   "cell_type": "markdown",
   "id": "f92cefd1-7611-4e9c-9602-88290dab8049",
   "metadata": {},
   "source": [
    "Question no 1 code"
   ]
  },
  {
   "cell_type": "code",
   "execution_count": 7,
   "id": "b7f9e310-2175-4643-a136-817501aa6897",
   "metadata": {},
   "outputs": [],
   "source": [
    " x = 10"
   ]
  },
  {
   "cell_type": "code",
   "execution_count": 8,
   "id": "e39d8355-9198-4071-bf47-aa2692d93fd4",
   "metadata": {},
   "outputs": [],
   "source": [
    " y = 30"
   ]
  },
  {
   "cell_type": "code",
   "execution_count": 9,
   "id": "2b2633ad-d103-4c58-8cc9-6f46d74ad198",
   "metadata": {},
   "outputs": [],
   "source": [
    "#swappimg of two variables"
   ]
  },
  {
   "cell_type": "code",
   "execution_count": 14,
   "id": "661d5f4e-1d54-4ad1-974d-47427eabaa25",
   "metadata": {},
   "outputs": [],
   "source": [
    "x ,y = y, x"
   ]
  },
  {
   "cell_type": "code",
   "execution_count": 15,
   "id": "f7dd5cc8-7c22-49c1-80a6-17ee664588fc",
   "metadata": {},
   "outputs": [
    {
     "name": "stdout",
     "output_type": "stream",
     "text": [
      "values of x: 30\n"
     ]
    }
   ],
   "source": [
    "print(\"values of x:\",x)"
   ]
  },
  {
   "cell_type": "code",
   "execution_count": null,
   "id": "6269adcd-a2eb-465c-9809-da573f952845",
   "metadata": {},
   "outputs": [],
   "source": []
  },
  {
   "cell_type": "code",
   "execution_count": 16,
   "id": "401e1de3-937d-4877-8e3f-c6c73ce1c02a",
   "metadata": {},
   "outputs": [
    {
     "name": "stdout",
     "output_type": "stream",
     "text": [
      "values of y: 10\n"
     ]
    }
   ],
   "source": [
    "print(\"values of y:\",y)"
   ]
  },
  {
   "cell_type": "markdown",
   "id": "fe190564-ddad-4823-81d9-f76c1cb3eea2",
   "metadata": {},
   "source": [
    "Hence first question is completed."
   ]
  },
  {
   "cell_type": "markdown",
   "id": "91645a55-fbe7-4e70-810f-ea6173d20070",
   "metadata": {},
   "source": [
    "Question no 2 code"
   ]
  },
  {
   "cell_type": "code",
   "execution_count": 17,
   "id": "e4e12f0e-fd4a-41e5-b66d-1310dbd6f422",
   "metadata": {},
   "outputs": [
    {
     "name": "stdin",
     "output_type": "stream",
     "text": [
      "enter the length: 21\n"
     ]
    }
   ],
   "source": [
    "length = int(input(\"enter the length:\"))"
   ]
  },
  {
   "cell_type": "code",
   "execution_count": 18,
   "id": "843b4298-43c1-4e0e-a0b9-c14607ad9738",
   "metadata": {},
   "outputs": [
    {
     "name": "stdin",
     "output_type": "stream",
     "text": [
      "enter the width: 45\n"
     ]
    }
   ],
   "source": [
    "width = int(input(\"enter the width:\"))"
   ]
  },
  {
   "cell_type": "code",
   "execution_count": 19,
   "id": "67070c0c-d1a3-4e70-8a8f-0fae665db219",
   "metadata": {},
   "outputs": [],
   "source": [
    "area = length*width"
   ]
  },
  {
   "cell_type": "code",
   "execution_count": 20,
   "id": "53530d29-1f2a-463f-aaca-639f251518cd",
   "metadata": {},
   "outputs": [
    {
     "name": "stdout",
     "output_type": "stream",
     "text": [
      "945\n"
     ]
    }
   ],
   "source": [
    "print(area)"
   ]
  },
  {
   "cell_type": "markdown",
   "id": "41722161-afec-4625-b7df-edd48a78e881",
   "metadata": {},
   "source": [
    "Hence  question is completed."
   ]
  },
  {
   "cell_type": "markdown",
   "id": "d7fefe3b-fec7-4489-b08c-3d25b1218856",
   "metadata": {},
   "source": [
    "Question no 3 code"
   ]
  },
  {
   "cell_type": "code",
   "execution_count": 21,
   "id": "2a136fcc-b6c3-4630-b388-070579196031",
   "metadata": {},
   "outputs": [
    {
     "name": "stdin",
     "output_type": "stream",
     "text": [
      "enter the temperature: 56\n"
     ]
    }
   ],
   "source": [
    "celsius = int(input(\"enter the temperature:\"))"
   ]
  },
  {
   "cell_type": "code",
   "execution_count": 22,
   "id": "2202f1f4-73a9-47ec-a4ee-c991e0de6239",
   "metadata": {},
   "outputs": [],
   "source": [
    " fahrenheit = celsius * 1.8 + 32\n"
   ]
  },
  {
   "cell_type": "code",
   "execution_count": 23,
   "id": "793619f6-6b49-4d85-acd2-b3ac4d44bccf",
   "metadata": {},
   "outputs": [
    {
     "name": "stdout",
     "output_type": "stream",
     "text": [
      "132.8\n"
     ]
    }
   ],
   "source": [
    "print(fahrenheit)"
   ]
  },
  {
   "cell_type": "markdown",
   "id": "9dbdedaf-3315-4c79-9a1f-6b471294bb8c",
   "metadata": {},
   "source": [
    "Hence question is completed."
   ]
  },
  {
   "cell_type": "markdown",
   "id": "ed2b0728-e030-43f6-925e-f755c033ea7d",
   "metadata": {},
   "source": [
    "String Based Questions"
   ]
  },
  {
   "cell_type": "markdown",
   "id": "094164f1-57e4-454d-8968-21c45b526ed8",
   "metadata": {},
   "source": [
    "Question no 1 code"
   ]
  },
  {
   "cell_type": "code",
   "execution_count": 1,
   "id": "ba6855a3-dd13-49aa-b166-76580f815c5c",
   "metadata": {},
   "outputs": [
    {
     "name": "stdin",
     "output_type": "stream",
     "text": [
      "enter the string :  Maaz Siidiquoi\n"
     ]
    }
   ],
   "source": [
    "str = input(\"enter the string : \")"
   ]
  },
  {
   "cell_type": "code",
   "execution_count": 2,
   "id": "a13a1b68-2d26-41d1-ae4e-13898eb77122",
   "metadata": {},
   "outputs": [],
   "source": [
    "# String had been entered in variable str"
   ]
  },
  {
   "cell_type": "code",
   "execution_count": 3,
   "id": "ffa59759-4797-40aa-bfbe-0b90a983a4d3",
   "metadata": {},
   "outputs": [
    {
     "name": "stdout",
     "output_type": "stream",
     "text": [
      "14\n"
     ]
    }
   ],
   "source": [
    "print(len(str))"
   ]
  },
  {
   "cell_type": "code",
   "execution_count": 4,
   "id": "a9a7ad0c-7bc0-4907-8e10-a082445ec4c7",
   "metadata": {},
   "outputs": [],
   "source": [
    "#length of the string has been displayed"
   ]
  },
  {
   "cell_type": "markdown",
   "id": "64c7a8eb-e034-4da7-bf7c-56c996a6d0a1",
   "metadata": {},
   "source": [
    "Hence Question is completed"
   ]
  },
  {
   "cell_type": "markdown",
   "id": "31416360-2ba7-4592-b447-771d6692777e",
   "metadata": {},
   "source": [
    "Question no 2 code"
   ]
  },
  {
   "cell_type": "code",
   "execution_count": 15,
   "id": "8c4da880-e83a-4f46-8710-755d573cd4f3",
   "metadata": {},
   "outputs": [
    {
     "name": "stdin",
     "output_type": "stream",
     "text": [
      "enter the string :  my name is rahul,i live in delhi.\n"
     ]
    }
   ],
   "source": [
    "var_sentence = input(\"enter the string : \")"
   ]
  },
  {
   "cell_type": "code",
   "execution_count": 6,
   "id": "ea8b4edd-14b8-4b95-913b-d9a04cc20f84",
   "metadata": {},
   "outputs": [],
   "source": [
    "#sentence is written by taking input from user"
   ]
  },
  {
   "cell_type": "code",
   "execution_count": 7,
   "id": "7cc3325d-c0f8-4d07-9ce7-221c3eb72aa7",
   "metadata": {},
   "outputs": [],
   "source": [
    "#now we have to count the no of vowels present in sentence"
   ]
  },
  {
   "cell_type": "code",
   "execution_count": 23,
   "id": "7bf359f0-e1bd-4d9f-9e76-4191aa075619",
   "metadata": {},
   "outputs": [],
   "source": [
    "x = var_sentence.count(\"a\")"
   ]
  },
  {
   "cell_type": "code",
   "execution_count": 24,
   "id": "5014c2f1-4e4c-401d-8cd4-0c43f8aed35a",
   "metadata": {},
   "outputs": [
    {
     "name": "stdout",
     "output_type": "stream",
     "text": [
      "2\n"
     ]
    }
   ],
   "source": [
    "print(x)"
   ]
  },
  {
   "cell_type": "code",
   "execution_count": 25,
   "id": "d4e9076e-93a9-4627-ab81-373c142ff19b",
   "metadata": {},
   "outputs": [],
   "source": [
    "#no of a in senetence is 2"
   ]
  },
  {
   "cell_type": "code",
   "execution_count": 26,
   "id": "d5af2f5d-cb49-4f8f-b8ee-ed774063c1c4",
   "metadata": {},
   "outputs": [],
   "source": [
    "x = var_sentence.count(\"e\")"
   ]
  },
  {
   "cell_type": "code",
   "execution_count": 27,
   "id": "730972ed-45e5-4990-8fab-3cdcd74afeab",
   "metadata": {},
   "outputs": [
    {
     "name": "stdout",
     "output_type": "stream",
     "text": [
      "3\n"
     ]
    }
   ],
   "source": [
    "print(x)"
   ]
  },
  {
   "cell_type": "code",
   "execution_count": 28,
   "id": "195a74ff-5a20-452e-a5bc-c9b5ecf246bd",
   "metadata": {},
   "outputs": [],
   "source": [
    "#no of e in sentence is 3"
   ]
  },
  {
   "cell_type": "code",
   "execution_count": 29,
   "id": "87553a66-cb01-4b1a-add4-8a275a0877b7",
   "metadata": {},
   "outputs": [],
   "source": [
    "\n",
    "x = var_sentence.count(\"i\")"
   ]
  },
  {
   "cell_type": "code",
   "execution_count": 30,
   "id": "1c73754e-95d1-47eb-a3c6-f89e961899ce",
   "metadata": {},
   "outputs": [
    {
     "name": "stdout",
     "output_type": "stream",
     "text": [
      "5\n"
     ]
    }
   ],
   "source": [
    "print(x)"
   ]
  },
  {
   "cell_type": "code",
   "execution_count": 31,
   "id": "430c49c5-ce0f-4120-9809-6ef6c6d093e5",
   "metadata": {},
   "outputs": [],
   "source": [
    "#no of i in sentence is 5"
   ]
  },
  {
   "cell_type": "code",
   "execution_count": 32,
   "id": "c5902db0-8701-4eb7-bb66-f3c527825bc0",
   "metadata": {},
   "outputs": [],
   "source": [
    "\n",
    "x = var_sentence.count(\"o\")"
   ]
  },
  {
   "cell_type": "code",
   "execution_count": 33,
   "id": "fce30d28-fb95-4789-ad92-45c55a8ffc26",
   "metadata": {},
   "outputs": [
    {
     "name": "stdout",
     "output_type": "stream",
     "text": [
      "0\n"
     ]
    }
   ],
   "source": [
    "print(x)"
   ]
  },
  {
   "cell_type": "code",
   "execution_count": 34,
   "id": "96932709-59c2-45e8-87e5-c675b02209f0",
   "metadata": {},
   "outputs": [],
   "source": [
    "#no of o in sentence is 0"
   ]
  },
  {
   "cell_type": "code",
   "execution_count": 35,
   "id": "c2f43a60-6148-4efd-843f-4cd02b262e0e",
   "metadata": {},
   "outputs": [],
   "source": [
    "\n",
    "x = var_sentence.count(\"u\")"
   ]
  },
  {
   "cell_type": "code",
   "execution_count": 36,
   "id": "613172b0-b0b5-4dda-8664-a0f925436484",
   "metadata": {},
   "outputs": [
    {
     "name": "stdout",
     "output_type": "stream",
     "text": [
      "1\n"
     ]
    }
   ],
   "source": [
    "print(x)"
   ]
  },
  {
   "cell_type": "code",
   "execution_count": 37,
   "id": "3c756b88-487a-45d1-a0e9-5b8295a3ebe1",
   "metadata": {},
   "outputs": [],
   "source": [
    "#no of u in sentence is 1"
   ]
  },
  {
   "cell_type": "markdown",
   "id": "d3cd5422-38ee-4c4e-bb50-2d16abf20faf",
   "metadata": {},
   "source": [
    "Hence all no of vowels had been counted Question is completed"
   ]
  },
  {
   "cell_type": "markdown",
   "id": "3e505c5e-fa3f-4d64-9bfb-5172c1ca0ffb",
   "metadata": {},
   "source": [
    "Question no 3 code"
   ]
  },
  {
   "cell_type": "code",
   "execution_count": 39,
   "id": "50ed3fd6-6492-4b07-8ffe-4d49b02b1034",
   "metadata": {},
   "outputs": [],
   "source": [
    "str = \"hello world\"[::-1]"
   ]
  },
  {
   "cell_type": "code",
   "execution_count": 40,
   "id": "c62525b7-79ad-4f1a-8acf-894cc957bfb0",
   "metadata": {},
   "outputs": [],
   "source": [
    "#string had been entered and using slicing the string is reversed "
   ]
  },
  {
   "cell_type": "code",
   "execution_count": 41,
   "id": "8a7e172b-5254-4357-8d8c-9d6c7d8b1dfd",
   "metadata": {},
   "outputs": [
    {
     "name": "stdout",
     "output_type": "stream",
     "text": [
      "dlrow olleh\n"
     ]
    }
   ],
   "source": [
    "print(str)"
   ]
  },
  {
   "cell_type": "code",
   "execution_count": 42,
   "id": "fd27cab2-d8a9-48be-9e37-8e376d3c4a2b",
   "metadata": {},
   "outputs": [],
   "source": [
    "#hence the string is reversed using sli9cing method"
   ]
  },
  {
   "cell_type": "markdown",
   "id": "6534cc22-5f68-4de4-8223-c085611c05e1",
   "metadata": {},
   "source": [
    "Hence tthe question is complketed"
   ]
  },
  {
   "cell_type": "markdown",
   "id": "94fc4640-2b73-43a6-8fb8-32fa99ff33fe",
   "metadata": {},
   "source": [
    "Question no 4 code"
   ]
  },
  {
   "cell_type": "code",
   "execution_count": 43,
   "id": "177df2c7-ea93-414c-86d4-387ed16aa5a9",
   "metadata": {},
   "outputs": [
    {
     "name": "stdin",
     "output_type": "stream",
     "text": [
      "enter nthe string :  madam\n"
     ]
    }
   ],
   "source": [
    "str = input(\"enter nthe string : \")"
   ]
  },
  {
   "cell_type": "code",
   "execution_count": 47,
   "id": "b5dfe40c-a1c0-40e5-be4c-1cace2404b6a",
   "metadata": {},
   "outputs": [
    {
     "name": "stdout",
     "output_type": "stream",
     "text": [
      "string is pallindrome\n"
     ]
    }
   ],
   "source": [
    "if(str==str[::-1]):\n",
    "    print(\"string is pallindrome\")\n",
    "else:\n",
    "    print('sring is noit pallindrome')"
   ]
  },
  {
   "cell_type": "code",
   "execution_count": 48,
   "id": "213a72e4-cfe8-46e4-b48c-108ae15c61df",
   "metadata": {},
   "outputs": [],
   "source": [
    "#string is entered and the string is pallindromr i.e it is showing pallindrome"
   ]
  },
  {
   "cell_type": "code",
   "execution_count": 49,
   "id": "6d8bc934-eaa3-4ca7-9619-e883411eca8e",
   "metadata": {},
   "outputs": [],
   "source": [
    "#now checking a non pallindrome sring"
   ]
  },
  {
   "cell_type": "code",
   "execution_count": 50,
   "id": "08b7efd0-c7b2-4b62-b7c1-c173617b19b6",
   "metadata": {},
   "outputs": [
    {
     "name": "stdin",
     "output_type": "stream",
     "text": [
      "enter nthe string :  maaz\n"
     ]
    }
   ],
   "source": [
    "str = input(\"enter nthe string : \")"
   ]
  },
  {
   "cell_type": "code",
   "execution_count": 51,
   "id": "4272aed7-3aa0-4b6a-9563-f91163ac7f8c",
   "metadata": {},
   "outputs": [
    {
     "name": "stdout",
     "output_type": "stream",
     "text": [
      "sring is noit pallindrome\n"
     ]
    }
   ],
   "source": [
    "if(str==str[::-1]):\n",
    "    print(\"string is pallindrome\")\n",
    "else:\n",
    "    print('sring is noit pallindrome')"
   ]
  },
  {
   "cell_type": "code",
   "execution_count": 52,
   "id": "3cf62561-8722-42e4-abf8-8927c57a602a",
   "metadata": {},
   "outputs": [],
   "source": [
    "#hence when the entered string is not pallindrome it is not showing pallindrome"
   ]
  },
  {
   "cell_type": "markdown",
   "id": "b3f2fab4-3e9c-4cfd-b6e0-4e55f7c426c4",
   "metadata": {},
   "source": [
    "Hence question is completed"
   ]
  },
  {
   "cell_type": "markdown",
   "id": "1bbdfaf8-4703-496e-bd20-70dc3b5afe4e",
   "metadata": {},
   "source": [
    "Question no 5 code"
   ]
  },
  {
   "cell_type": "code",
   "execution_count": 55,
   "id": "4b5c763e-c9a0-4890-bb58-a5bff4b1c898",
   "metadata": {},
   "outputs": [
    {
     "name": "stdin",
     "output_type": "stream",
     "text": [
      "entered the string :           maaz       \n"
     ]
    },
    {
     "name": "stdout",
     "output_type": "stream",
     "text": [
      "maaz\n"
     ]
    }
   ],
   "source": [
    "str = input(\"entered the string : \")\n",
    "x = str.strip()\n",
    "print (x)"
   ]
  },
  {
   "cell_type": "code",
   "execution_count": 56,
   "id": "1277d0e7-52cf-4a0d-9314-664ad9166dda",
   "metadata": {},
   "outputs": [],
   "source": [
    "# hence the enterd styring contains many sapces all the spaces had been remoiived"
   ]
  },
  {
   "cell_type": "code",
   "execution_count": null,
   "id": "509bca31-ea16-4027-8fa5-08324307f28c",
   "metadata": {},
   "outputs": [],
   "source": []
  }
 ],
 "metadata": {
  "kernelspec": {
   "display_name": "Python 3 (ipykernel)",
   "language": "python",
   "name": "python3"
  },
  "language_info": {
   "codemirror_mode": {
    "name": "ipython",
    "version": 3
   },
   "file_extension": ".py",
   "mimetype": "text/x-python",
   "name": "python",
   "nbconvert_exporter": "python",
   "pygments_lexer": "ipython3",
   "version": "3.10.8"
  }
 },
 "nbformat": 4,
 "nbformat_minor": 5
}
